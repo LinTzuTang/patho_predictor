{
 "cells": [
  {
   "cell_type": "code",
   "execution_count": 1,
   "metadata": {},
   "outputs": [
    {
     "name": "stderr",
     "output_type": "stream",
     "text": [
      "/home/tzutang/.local/lib/python3.8/site-packages/pandas/core/computation/expressions.py:20: UserWarning: Pandas requires version '2.7.3' or newer of 'numexpr' (version '2.7.1' currently installed).\n",
      "  from pandas.core.computation.check import NUMEXPR_INSTALLED\n"
     ]
    }
   ],
   "source": [
    "from patho_predictor import read_fasta_to_kmers\n",
    "from joblib import load\n",
    "import pandas as pd"
   ]
  },
  {
   "cell_type": "code",
   "execution_count": 2,
   "metadata": {},
   "outputs": [],
   "source": [
    "model_path = \"demo/random_forest.joblib\"\n",
    "input_fasta = \"demo/demo.fna\"\n",
    "output_csv = \"result_demo.csv\"\n",
    "\n",
    "def patho_predict(model_path, input_fasta, output_csv):\n",
    "    \n",
    "    df = read_fasta_to_kmers(input_fasta,[3])\n",
    "    \n",
    "    model = load(model_path)\n",
    "\n",
    "    y_pred = model.predict_proba(df.iloc[:, 1:])[:, 1]  # Exclude the first column which is the sequence ID for prediction\n",
    "\n",
    "    # Create a DataFrame for the prediction results\n",
    "    results_df = pd.DataFrame({\n",
    "        'sequence_id': df['sequence_id'],  # This keeps the sequence ID\n",
    "        'prediction_value': y_pred,                   # These are the predictions\n",
    "        'label': ['pathogenic' if pred == 1 else 'non-pathogenic' for pred in y_pred]  # Label predictions for clarity\n",
    "    })\n",
    "    results_df.to_csv('demo/result_demo.csv', index= False)\n",
    "    return results_df\n"
   ]
  },
  {
   "cell_type": "code",
   "execution_count": 3,
   "metadata": {},
   "outputs": [
    {
     "data": {
      "text/html": [
       "<div>\n",
       "<style scoped>\n",
       "    .dataframe tbody tr th:only-of-type {\n",
       "        vertical-align: middle;\n",
       "    }\n",
       "\n",
       "    .dataframe tbody tr th {\n",
       "        vertical-align: top;\n",
       "    }\n",
       "\n",
       "    .dataframe thead th {\n",
       "        text-align: right;\n",
       "    }\n",
       "</style>\n",
       "<table border=\"1\" class=\"dataframe\">\n",
       "  <thead>\n",
       "    <tr style=\"text-align: right;\">\n",
       "      <th></th>\n",
       "      <th>sequence_id</th>\n",
       "      <th>prediction_value</th>\n",
       "      <th>label</th>\n",
       "    </tr>\n",
       "  </thead>\n",
       "  <tbody>\n",
       "    <tr>\n",
       "      <th>0</th>\n",
       "      <td>seq_1</td>\n",
       "      <td>0.43</td>\n",
       "      <td>non-pathogenic</td>\n",
       "    </tr>\n",
       "    <tr>\n",
       "      <th>1</th>\n",
       "      <td>seq_2</td>\n",
       "      <td>0.46</td>\n",
       "      <td>non-pathogenic</td>\n",
       "    </tr>\n",
       "  </tbody>\n",
       "</table>\n",
       "</div>"
      ],
      "text/plain": [
       "  sequence_id  prediction_value           label\n",
       "0       seq_1              0.43  non-pathogenic\n",
       "1       seq_2              0.46  non-pathogenic"
      ]
     },
     "execution_count": 3,
     "metadata": {},
     "output_type": "execute_result"
    }
   ],
   "source": [
    "patho_predict(model_path, input_fasta, output_csv)"
   ]
  }
 ],
 "metadata": {
  "kernelspec": {
   "display_name": "Python 3",
   "language": "python",
   "name": "python3"
  },
  "language_info": {
   "codemirror_mode": {
    "name": "ipython",
    "version": 3
   },
   "file_extension": ".py",
   "mimetype": "text/x-python",
   "name": "python",
   "nbconvert_exporter": "python",
   "pygments_lexer": "ipython3",
   "version": "3.8.6"
  }
 },
 "nbformat": 4,
 "nbformat_minor": 4
}
