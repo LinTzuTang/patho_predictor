{
 "cells": [
  {
   "cell_type": "code",
   "execution_count": 2,
   "metadata": {},
   "outputs": [
    {
     "name": "stderr",
     "output_type": "stream",
     "text": [
      "/home/tzutang/.local/lib/python3.8/site-packages/pandas/core/computation/expressions.py:20: UserWarning: Pandas requires version '2.7.3' or newer of 'numexpr' (version '2.7.1' currently installed).\n",
      "  from pandas.core.computation.check import NUMEXPR_INSTALLED\n"
     ]
    }
   ],
   "source": [
    "import pandas as pd\n",
    "from kmers_frequency_encoding import read_fasta_to_kmers"
   ]
  },
  {
   "cell_type": "code",
   "execution_count": 3,
   "metadata": {},
   "outputs": [],
   "source": [
    "train_df = pd.read_csv('train.csv')\n",
    "test_df =  pd.read_csv('test.csv')\n",
    "# train_df['group'].value_counts(), test_df['group'].value_counts()"
   ]
  },
  {
   "cell_type": "code",
   "execution_count": 4,
   "metadata": {},
   "outputs": [],
   "source": [
    "train_kmers_df = read_fasta_to_kmers(train_df, file_dir = '../data', k_mers = [3])\n",
    "test_kmers_df = read_fasta_to_kmers(test_df, file_dir = '../data', k_mers = [3])\n",
    "\n",
    "#train_kmers_df.to_csv('encoded_data/train_3mers.csv')\n",
    "#test_kmers_df.to_csv('encoded_data/test_3mers.csv')\n",
    "# train_3mers_df = pd.read_csv('encoded_data/train_3mers.csv',index_col=[0])\n",
    "# test_3mers_df = pd.read_csv('encoded_data/test_3mers.csv',index_col=[0])\n",
    "# train_4mers_df = pd.read_csv('encoded_data/train_4mers.csv',index_col=[0])\n",
    "# test_4mers_df = pd.read_csv('encoded_data/test_4mers.csv',index_col=[0])"
   ]
  },
  {
   "cell_type": "code",
   "execution_count": 8,
   "metadata": {},
   "outputs": [
    {
     "name": "stdout",
     "output_type": "stream",
     "text": [
      "                  Model  Accuracy  Precision    Recall  F1 Score\n",
      "0         Random Forest  0.912354   0.911313  0.912354  0.911594\n",
      "1   Logistic Regression  0.743434   0.761869  0.743434  0.658056\n",
      "2                   SVM  0.859363   0.855414  0.859363  0.854849\n",
      "3                   KNN  0.906915   0.905470  0.906915  0.905426\n",
      "4         Decision Tree  0.873038   0.873196  0.873038  0.873116\n",
      "5  Gaussian Naive Bayes  0.679409   0.680819  0.679409  0.680104\n",
      "6               XGBoost  0.845688   0.840809  0.845688  0.838835\n"
     ]
    }
   ],
   "source": [
    "import pandas as pd\n",
    "from sklearn.ensemble import RandomForestClassifier, GradientBoostingClassifier\n",
    "from sklearn.linear_model import LogisticRegression\n",
    "from sklearn.svm import SVC\n",
    "from sklearn.neighbors import KNeighborsClassifier\n",
    "from sklearn.tree import DecisionTreeClassifier\n",
    "from sklearn.naive_bayes import GaussianNB\n",
    "from sklearn.metrics import accuracy_score, precision_score, recall_score, f1_score\n",
    "from joblib import dump\n",
    "import os\n",
    "\n",
    "# Initialize models\n",
    "models = {\n",
    "    \"Random Forest\": RandomForestClassifier(n_estimators=100, random_state=42),\n",
    "    \"Logistic Regression\": LogisticRegression(),\n",
    "    \"SVM\": SVC(),\n",
    "    \"KNN\": KNeighborsClassifier(),\n",
    "    \"Decision Tree\": DecisionTreeClassifier(),\n",
    "    \"Gaussian Naive Bayes\": GaussianNB(),\n",
    "    \"XGBoost\": GradientBoostingClassifier()\n",
    "}\n",
    "\n",
    "# Prepare features and labels\n",
    "X_train = train_4mers_df.iloc[:, :-2]\n",
    "y_train = train_4mers_df['group']\n",
    "X_test = test_4mers_df.iloc[:, :-2]\n",
    "y_test = test_4mers_df['group']\n",
    "\n",
    "# List to collect performance data\n",
    "performance_data = []\n",
    "\n",
    "# Ensure the model directory exists\n",
    "model_directory = \"WGS_models\"\n",
    "os.makedirs(model_directory, exist_ok=True)\n",
    "\n",
    "# Train, predict, and save each model\n",
    "for name, model in models.items():\n",
    "    model.fit(X_train, y_train)\n",
    "    y_pred = model.predict(X_test)\n",
    "    \n",
    "    performance_data.append({\n",
    "        'Model': name,\n",
    "        'Accuracy': accuracy_score(y_test, y_pred),\n",
    "        'Precision': precision_score(y_test, y_pred, average='weighted'),\n",
    "        'Recall': recall_score(y_test, y_pred, average='weighted'),\n",
    "        'F1 Score': f1_score(y_test, y_pred, average='weighted')\n",
    "    })\n",
    "    \n",
    "    # Save the model\n",
    "    model_path = os.path.join(model_directory, f\"{name.replace(' ', '_').lower()}_4mers.joblib\")\n",
    "    dump(model, model_path)\n",
    "\n",
    "# Create DataFrame from collected performance data\n",
    "performance_df = pd.DataFrame(performance_data)\n",
    "print(performance_df)"
   ]
  },
  {
   "cell_type": "code",
   "execution_count": 9,
   "metadata": {},
   "outputs": [
    {
     "data": {
      "text/html": [
       "<div>\n",
       "<style scoped>\n",
       "    .dataframe tbody tr th:only-of-type {\n",
       "        vertical-align: middle;\n",
       "    }\n",
       "\n",
       "    .dataframe tbody tr th {\n",
       "        vertical-align: top;\n",
       "    }\n",
       "\n",
       "    .dataframe thead th {\n",
       "        text-align: right;\n",
       "    }\n",
       "</style>\n",
       "<table border=\"1\" class=\"dataframe\">\n",
       "  <thead>\n",
       "    <tr style=\"text-align: right;\">\n",
       "      <th></th>\n",
       "      <th>Model</th>\n",
       "      <th>Accuracy</th>\n",
       "      <th>Precision</th>\n",
       "      <th>Recall</th>\n",
       "      <th>F1 Score</th>\n",
       "    </tr>\n",
       "  </thead>\n",
       "  <tbody>\n",
       "    <tr>\n",
       "      <th>0</th>\n",
       "      <td>Random Forest</td>\n",
       "      <td>0.912354</td>\n",
       "      <td>0.911313</td>\n",
       "      <td>0.912354</td>\n",
       "      <td>0.911594</td>\n",
       "    </tr>\n",
       "    <tr>\n",
       "      <th>1</th>\n",
       "      <td>Logistic Regression</td>\n",
       "      <td>0.743434</td>\n",
       "      <td>0.761869</td>\n",
       "      <td>0.743434</td>\n",
       "      <td>0.658056</td>\n",
       "    </tr>\n",
       "    <tr>\n",
       "      <th>2</th>\n",
       "      <td>SVM</td>\n",
       "      <td>0.859363</td>\n",
       "      <td>0.855414</td>\n",
       "      <td>0.859363</td>\n",
       "      <td>0.854849</td>\n",
       "    </tr>\n",
       "    <tr>\n",
       "      <th>3</th>\n",
       "      <td>KNN</td>\n",
       "      <td>0.906915</td>\n",
       "      <td>0.905470</td>\n",
       "      <td>0.906915</td>\n",
       "      <td>0.905426</td>\n",
       "    </tr>\n",
       "    <tr>\n",
       "      <th>4</th>\n",
       "      <td>Decision Tree</td>\n",
       "      <td>0.873038</td>\n",
       "      <td>0.873196</td>\n",
       "      <td>0.873038</td>\n",
       "      <td>0.873116</td>\n",
       "    </tr>\n",
       "    <tr>\n",
       "      <th>5</th>\n",
       "      <td>Gaussian Naive Bayes</td>\n",
       "      <td>0.679409</td>\n",
       "      <td>0.680819</td>\n",
       "      <td>0.679409</td>\n",
       "      <td>0.680104</td>\n",
       "    </tr>\n",
       "    <tr>\n",
       "      <th>6</th>\n",
       "      <td>XGBoost</td>\n",
       "      <td>0.845688</td>\n",
       "      <td>0.840809</td>\n",
       "      <td>0.845688</td>\n",
       "      <td>0.838835</td>\n",
       "    </tr>\n",
       "  </tbody>\n",
       "</table>\n",
       "</div>"
      ],
      "text/plain": [
       "                  Model  Accuracy  Precision    Recall  F1 Score\n",
       "0         Random Forest  0.912354   0.911313  0.912354  0.911594\n",
       "1   Logistic Regression  0.743434   0.761869  0.743434  0.658056\n",
       "2                   SVM  0.859363   0.855414  0.859363  0.854849\n",
       "3                   KNN  0.906915   0.905470  0.906915  0.905426\n",
       "4         Decision Tree  0.873038   0.873196  0.873038  0.873116\n",
       "5  Gaussian Naive Bayes  0.679409   0.680819  0.679409  0.680104\n",
       "6               XGBoost  0.845688   0.840809  0.845688  0.838835"
      ]
     },
     "execution_count": 9,
     "metadata": {},
     "output_type": "execute_result"
    }
   ],
   "source": [
    "performance_df"
   ]
  },
  {
   "cell_type": "code",
   "execution_count": 74,
   "metadata": {},
   "outputs": [
    {
     "data": {
      "text/html": [
       "<div>\n",
       "<style scoped>\n",
       "    .dataframe tbody tr th:only-of-type {\n",
       "        vertical-align: middle;\n",
       "    }\n",
       "\n",
       "    .dataframe tbody tr th {\n",
       "        vertical-align: top;\n",
       "    }\n",
       "\n",
       "    .dataframe thead th {\n",
       "        text-align: right;\n",
       "    }\n",
       "</style>\n",
       "<table border=\"1\" class=\"dataframe\">\n",
       "  <thead>\n",
       "    <tr style=\"text-align: right;\">\n",
       "      <th></th>\n",
       "      <th>Model</th>\n",
       "      <th>Accuracy</th>\n",
       "      <th>Precision</th>\n",
       "      <th>Recall</th>\n",
       "      <th>F1 Score</th>\n",
       "    </tr>\n",
       "  </thead>\n",
       "  <tbody>\n",
       "    <tr>\n",
       "      <th>0</th>\n",
       "      <td>decision_tree</td>\n",
       "      <td>0.868376</td>\n",
       "      <td>0.867736</td>\n",
       "      <td>0.868376</td>\n",
       "      <td>0.868036</td>\n",
       "    </tr>\n",
       "    <tr>\n",
       "      <th>1</th>\n",
       "      <td>gaussian_naive_bayes</td>\n",
       "      <td>0.675524</td>\n",
       "      <td>0.677122</td>\n",
       "      <td>0.675524</td>\n",
       "      <td>0.676311</td>\n",
       "    </tr>\n",
       "    <tr>\n",
       "      <th>2</th>\n",
       "      <td>knn</td>\n",
       "      <td>0.902720</td>\n",
       "      <td>0.901117</td>\n",
       "      <td>0.902720</td>\n",
       "      <td>0.901031</td>\n",
       "    </tr>\n",
       "    <tr>\n",
       "      <th>3</th>\n",
       "      <td>logistic_regression</td>\n",
       "      <td>0.749495</td>\n",
       "      <td>0.748497</td>\n",
       "      <td>0.749495</td>\n",
       "      <td>0.679272</td>\n",
       "    </tr>\n",
       "    <tr>\n",
       "      <th>4</th>\n",
       "      <td>svm</td>\n",
       "      <td>0.841492</td>\n",
       "      <td>0.836774</td>\n",
       "      <td>0.841492</td>\n",
       "      <td>0.832830</td>\n",
       "    </tr>\n",
       "    <tr>\n",
       "      <th>5</th>\n",
       "      <td>random_forest</td>\n",
       "      <td>0.913598</td>\n",
       "      <td>0.912472</td>\n",
       "      <td>0.913598</td>\n",
       "      <td>0.912680</td>\n",
       "    </tr>\n",
       "    <tr>\n",
       "      <th>6</th>\n",
       "      <td>xgboost</td>\n",
       "      <td>0.835742</td>\n",
       "      <td>0.829885</td>\n",
       "      <td>0.835742</td>\n",
       "      <td>0.827745</td>\n",
       "    </tr>\n",
       "  </tbody>\n",
       "</table>\n",
       "</div>"
      ],
      "text/plain": [
       "                  Model  Accuracy  Precision    Recall  F1 Score\n",
       "0         decision_tree  0.868376   0.867736  0.868376  0.868036\n",
       "1  gaussian_naive_bayes  0.675524   0.677122  0.675524  0.676311\n",
       "2                   knn  0.902720   0.901117  0.902720  0.901031\n",
       "3   logistic_regression  0.749495   0.748497  0.749495  0.679272\n",
       "4                   svm  0.841492   0.836774  0.841492  0.832830\n",
       "5         random_forest  0.913598   0.912472  0.913598  0.912680\n",
       "6               xgboost  0.835742   0.829885  0.835742  0.827745"
      ]
     },
     "execution_count": 74,
     "metadata": {},
     "output_type": "execute_result"
    }
   ],
   "source": [
    "performance_df"
   ]
  },
  {
   "cell_type": "code",
   "execution_count": 49,
   "metadata": {},
   "outputs": [
    {
     "name": "stderr",
     "output_type": "stream",
     "text": [
      "100%|██████████| 10/10 [00:00<00:00, 127.92it/s]\n"
     ]
    }
   ],
   "source": [
    "k_mers = [3]\n",
    "file_dir = '../data_short_read/'\n",
    "test_df_s = test_df.sample(n=10, random_state=42)\n",
    "test_kmers_df = read_fasta_to_kmers(test_df_s, file_dir, k_mers)"
   ]
  },
  {
   "cell_type": "code",
   "execution_count": 50,
   "metadata": {},
   "outputs": [
    {
     "name": "stdout",
     "output_type": "stream",
     "text": [
      "              precision    recall  f1-score   support\n",
      "\n",
      "           0       0.48      0.78      0.59    128926\n",
      "           1       0.70      0.38      0.49    176067\n",
      "\n",
      "    accuracy                           0.55    304993\n",
      "   macro avg       0.59      0.58      0.54    304993\n",
      "weighted avg       0.61      0.55      0.54    304993\n",
      "\n"
     ]
    }
   ],
   "source": [
    "y_pred = model.predict(test_kmers_df.iloc[:,0:-2])\n",
    "print(classification_report(test_kmers_df['group'], y_pred))"
   ]
  },
  {
   "cell_type": "code",
   "execution_count": 61,
   "metadata": {},
   "outputs": [],
   "source": [
    "test_kmers_df = pd.read('encoded_data/test_3mers_extracted_sr')"
   ]
  },
  {
   "cell_type": "code",
   "execution_count": 62,
   "metadata": {},
   "outputs": [
    {
     "name": "stdout",
     "output_type": "stream",
     "text": [
      "              precision    recall  f1-score   support\n",
      "\n",
      "           0       0.34      0.68      0.45    925000\n",
      "           1       0.71      0.37      0.48   1978000\n",
      "\n",
      "    accuracy                           0.47   2903000\n",
      "   macro avg       0.52      0.52      0.47   2903000\n",
      "weighted avg       0.59      0.47      0.47   2903000\n",
      "\n"
     ]
    }
   ],
   "source": [
    "y_pred = model.predict(test_kmers_df.iloc[:,0:-2])\n",
    "print(classification_report(test_kmers_df['group'], y_pred))"
   ]
  },
  {
   "cell_type": "code",
   "execution_count": null,
   "metadata": {},
   "outputs": [],
   "source": []
  }
 ],
 "metadata": {
  "kernelspec": {
   "display_name": "Python 3",
   "language": "python",
   "name": "python3"
  },
  "language_info": {
   "codemirror_mode": {
    "name": "ipython",
    "version": 3
   },
   "file_extension": ".py",
   "mimetype": "text/x-python",
   "name": "python",
   "nbconvert_exporter": "python",
   "pygments_lexer": "ipython3",
   "version": "3.8.6"
  }
 },
 "nbformat": 4,
 "nbformat_minor": 4
}
